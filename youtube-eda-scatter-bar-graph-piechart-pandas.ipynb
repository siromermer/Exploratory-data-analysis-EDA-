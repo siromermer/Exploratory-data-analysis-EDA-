{
 "cells": [
  {
   "cell_type": "markdown",
   "id": "b4b64a59-cdeb-4cd9-ba64-86d74a0982d3",
   "metadata": {},
   "source": [
    "you can find datasets in kaggle , check readme for datasets links . Also you can see these notebook from my kaggle page , you can find link in readme file"
   ]
  },
  {
   "cell_type": "code",
   "execution_count": 1,
   "id": "c3c45039",
   "metadata": {
    "_cell_guid": "b1076dfc-b9ad-4769-8c92-a6c4dae69d19",
    "_uuid": "8f2839f25d086af736a60e9eeb907d3b93b6e0e5",
    "papermill": {
     "duration": 0.032374,
     "end_time": "2023-08-15T22:49:19.204224",
     "exception": false,
     "start_time": "2023-08-15T22:49:19.171850",
     "status": "completed"
    },
    "tags": []
   },
   "outputs": [
    {
     "data": {
      "text/plain": [
       "\"\\nimport os\\nfor dirname, _, filenames in os.walk('/kaggle/input'):\\n    for filename in filenames:\\n        print(os.path.join(dirname, filename))\\n\""
      ]
     },
     "execution_count": 1,
     "metadata": {},
     "output_type": "execute_result"
    }
   ],
   "source": [
    "\"\"\"\n",
    "import os\n",
    "for dirname, _, filenames in os.walk('/kaggle/input'):\n",
    "    for filename in filenames:\n",
    "        print(os.path.join(dirname, filename))\n",
    "\"\"\""
   ]
  },
  {
   "cell_type": "code",
   "execution_count": 2,
   "id": "df080477-ed4d-476d-9c34-5fd3b49e5f6c",
   "metadata": {},
   "outputs": [],
   "source": [
    "# libraries\n",
    "import numpy as np # linear algebra\n",
    "import pandas as pd # data processing, CSV file I/O (e.g. pd.read_csv)\n",
    "import matplotlib.pyplot as plt"
   ]
  },
  {
   "cell_type": "markdown",
   "id": "a1b3717c",
   "metadata": {
    "papermill": {
     "duration": 0.010885,
     "end_time": "2023-08-15T22:49:19.225136",
     "exception": false,
     "start_time": "2023-08-15T22:49:19.214251",
     "status": "completed"
    },
    "tags": []
   },
   "source": [
    "# Reading dataset "
   ]
  },
  {
   "cell_type": "code",
   "execution_count": 26,
   "id": "856c13c1",
   "metadata": {
    "papermill": {
     "duration": 0.081896,
     "end_time": "2023-08-15T22:49:19.317903",
     "exception": false,
     "start_time": "2023-08-15T22:49:19.236007",
     "status": "completed"
    },
    "tags": []
   },
   "outputs": [
    {
     "data": {
      "text/html": [
       "<div>\n",
       "<style scoped>\n",
       "    .dataframe tbody tr th:only-of-type {\n",
       "        vertical-align: middle;\n",
       "    }\n",
       "\n",
       "    .dataframe tbody tr th {\n",
       "        vertical-align: top;\n",
       "    }\n",
       "\n",
       "    .dataframe thead th {\n",
       "        text-align: right;\n",
       "    }\n",
       "</style>\n",
       "<table border=\"1\" class=\"dataframe\">\n",
       "  <thead>\n",
       "    <tr style=\"text-align: right;\">\n",
       "      <th></th>\n",
       "      <th>rank</th>\n",
       "      <th>Youtuber</th>\n",
       "      <th>subscribers</th>\n",
       "      <th>video views</th>\n",
       "      <th>category</th>\n",
       "      <th>Title</th>\n",
       "      <th>uploads</th>\n",
       "      <th>Country</th>\n",
       "      <th>Abbreviation</th>\n",
       "      <th>channel_type</th>\n",
       "      <th>...</th>\n",
       "      <th>subscribers_for_last_30_days</th>\n",
       "      <th>created_year</th>\n",
       "      <th>created_month</th>\n",
       "      <th>created_date</th>\n",
       "      <th>Gross tertiary education enrollment (%)</th>\n",
       "      <th>Population</th>\n",
       "      <th>Unemployment rate</th>\n",
       "      <th>Urban_population</th>\n",
       "      <th>Latitude</th>\n",
       "      <th>Longitude</th>\n",
       "    </tr>\n",
       "  </thead>\n",
       "  <tbody>\n",
       "    <tr>\n",
       "      <th>0</th>\n",
       "      <td>1</td>\n",
       "      <td>T-Series</td>\n",
       "      <td>245000000</td>\n",
       "      <td>2.280000e+11</td>\n",
       "      <td>Music</td>\n",
       "      <td>T-Series</td>\n",
       "      <td>20082</td>\n",
       "      <td>India</td>\n",
       "      <td>IN</td>\n",
       "      <td>Music</td>\n",
       "      <td>...</td>\n",
       "      <td>2000000.0</td>\n",
       "      <td>2006.0</td>\n",
       "      <td>Mar</td>\n",
       "      <td>13.0</td>\n",
       "      <td>28.1</td>\n",
       "      <td>1.366418e+09</td>\n",
       "      <td>5.36</td>\n",
       "      <td>471031528.0</td>\n",
       "      <td>20.593684</td>\n",
       "      <td>78.962880</td>\n",
       "    </tr>\n",
       "    <tr>\n",
       "      <th>1</th>\n",
       "      <td>2</td>\n",
       "      <td>YouTube Movies</td>\n",
       "      <td>170000000</td>\n",
       "      <td>0.000000e+00</td>\n",
       "      <td>Film &amp; Animation</td>\n",
       "      <td>youtubemovies</td>\n",
       "      <td>1</td>\n",
       "      <td>United States</td>\n",
       "      <td>US</td>\n",
       "      <td>Games</td>\n",
       "      <td>...</td>\n",
       "      <td>NaN</td>\n",
       "      <td>2006.0</td>\n",
       "      <td>Mar</td>\n",
       "      <td>5.0</td>\n",
       "      <td>88.2</td>\n",
       "      <td>3.282395e+08</td>\n",
       "      <td>14.70</td>\n",
       "      <td>270663028.0</td>\n",
       "      <td>37.090240</td>\n",
       "      <td>-95.712891</td>\n",
       "    </tr>\n",
       "    <tr>\n",
       "      <th>2</th>\n",
       "      <td>3</td>\n",
       "      <td>MrBeast</td>\n",
       "      <td>166000000</td>\n",
       "      <td>2.836884e+10</td>\n",
       "      <td>Entertainment</td>\n",
       "      <td>MrBeast</td>\n",
       "      <td>741</td>\n",
       "      <td>United States</td>\n",
       "      <td>US</td>\n",
       "      <td>Entertainment</td>\n",
       "      <td>...</td>\n",
       "      <td>8000000.0</td>\n",
       "      <td>2012.0</td>\n",
       "      <td>Feb</td>\n",
       "      <td>20.0</td>\n",
       "      <td>88.2</td>\n",
       "      <td>3.282395e+08</td>\n",
       "      <td>14.70</td>\n",
       "      <td>270663028.0</td>\n",
       "      <td>37.090240</td>\n",
       "      <td>-95.712891</td>\n",
       "    </tr>\n",
       "    <tr>\n",
       "      <th>3</th>\n",
       "      <td>4</td>\n",
       "      <td>Cocomelon - Nursery Rhymes</td>\n",
       "      <td>162000000</td>\n",
       "      <td>1.640000e+11</td>\n",
       "      <td>Education</td>\n",
       "      <td>Cocomelon - Nursery Rhymes</td>\n",
       "      <td>966</td>\n",
       "      <td>United States</td>\n",
       "      <td>US</td>\n",
       "      <td>Education</td>\n",
       "      <td>...</td>\n",
       "      <td>1000000.0</td>\n",
       "      <td>2006.0</td>\n",
       "      <td>Sep</td>\n",
       "      <td>1.0</td>\n",
       "      <td>88.2</td>\n",
       "      <td>3.282395e+08</td>\n",
       "      <td>14.70</td>\n",
       "      <td>270663028.0</td>\n",
       "      <td>37.090240</td>\n",
       "      <td>-95.712891</td>\n",
       "    </tr>\n",
       "    <tr>\n",
       "      <th>4</th>\n",
       "      <td>5</td>\n",
       "      <td>SET India</td>\n",
       "      <td>159000000</td>\n",
       "      <td>1.480000e+11</td>\n",
       "      <td>Shows</td>\n",
       "      <td>SET India</td>\n",
       "      <td>116536</td>\n",
       "      <td>India</td>\n",
       "      <td>IN</td>\n",
       "      <td>Entertainment</td>\n",
       "      <td>...</td>\n",
       "      <td>1000000.0</td>\n",
       "      <td>2006.0</td>\n",
       "      <td>Sep</td>\n",
       "      <td>20.0</td>\n",
       "      <td>28.1</td>\n",
       "      <td>1.366418e+09</td>\n",
       "      <td>5.36</td>\n",
       "      <td>471031528.0</td>\n",
       "      <td>20.593684</td>\n",
       "      <td>78.962880</td>\n",
       "    </tr>\n",
       "  </tbody>\n",
       "</table>\n",
       "<p>5 rows × 28 columns</p>\n",
       "</div>"
      ],
      "text/plain": [
       "   rank                    Youtuber  subscribers   video views  \\\n",
       "0     1                    T-Series    245000000  2.280000e+11   \n",
       "1     2              YouTube Movies    170000000  0.000000e+00   \n",
       "2     3                     MrBeast    166000000  2.836884e+10   \n",
       "3     4  Cocomelon - Nursery Rhymes    162000000  1.640000e+11   \n",
       "4     5                   SET India    159000000  1.480000e+11   \n",
       "\n",
       "           category                       Title  uploads        Country  \\\n",
       "0             Music                    T-Series    20082          India   \n",
       "1  Film & Animation               youtubemovies        1  United States   \n",
       "2     Entertainment                     MrBeast      741  United States   \n",
       "3         Education  Cocomelon - Nursery Rhymes      966  United States   \n",
       "4             Shows                   SET India   116536          India   \n",
       "\n",
       "  Abbreviation   channel_type  ...  subscribers_for_last_30_days  \\\n",
       "0           IN          Music  ...                     2000000.0   \n",
       "1           US          Games  ...                           NaN   \n",
       "2           US  Entertainment  ...                     8000000.0   \n",
       "3           US      Education  ...                     1000000.0   \n",
       "4           IN  Entertainment  ...                     1000000.0   \n",
       "\n",
       "   created_year  created_month  created_date  \\\n",
       "0        2006.0            Mar          13.0   \n",
       "1        2006.0            Mar           5.0   \n",
       "2        2012.0            Feb          20.0   \n",
       "3        2006.0            Sep           1.0   \n",
       "4        2006.0            Sep          20.0   \n",
       "\n",
       "   Gross tertiary education enrollment (%)    Population  Unemployment rate  \\\n",
       "0                                     28.1  1.366418e+09               5.36   \n",
       "1                                     88.2  3.282395e+08              14.70   \n",
       "2                                     88.2  3.282395e+08              14.70   \n",
       "3                                     88.2  3.282395e+08              14.70   \n",
       "4                                     28.1  1.366418e+09               5.36   \n",
       "\n",
       "   Urban_population   Latitude  Longitude  \n",
       "0       471031528.0  20.593684  78.962880  \n",
       "1       270663028.0  37.090240 -95.712891  \n",
       "2       270663028.0  37.090240 -95.712891  \n",
       "3       270663028.0  37.090240 -95.712891  \n",
       "4       471031528.0  20.593684  78.962880  \n",
       "\n",
       "[5 rows x 28 columns]"
      ]
     },
     "execution_count": 26,
     "metadata": {},
     "output_type": "execute_result"
    }
   ],
   "source": [
    "# read dataset and take a quick glance\n",
    "df=pd.read_csv(\"datasets/Global YouTube Statistics.csv\",encoding='windows-1252')\n",
    "df.head(5)"
   ]
  },
  {
   "cell_type": "code",
   "execution_count": 27,
   "id": "77e88401",
   "metadata": {
    "papermill": {
     "duration": 0.02137,
     "end_time": "2023-08-15T22:49:19.349772",
     "exception": false,
     "start_time": "2023-08-15T22:49:19.328402",
     "status": "completed"
    },
    "tags": []
   },
   "outputs": [
    {
     "data": {
      "text/plain": [
       "Index(['rank', 'Youtuber', 'subscribers', 'video views', 'category', 'Title',\n",
       "       'uploads', 'Country', 'Abbreviation', 'channel_type',\n",
       "       'video_views_rank', 'country_rank', 'channel_type_rank',\n",
       "       'video_views_for_the_last_30_days', 'lowest_monthly_earnings',\n",
       "       'highest_monthly_earnings', 'lowest_yearly_earnings',\n",
       "       'highest_yearly_earnings', 'subscribers_for_last_30_days',\n",
       "       'created_year', 'created_month', 'created_date',\n",
       "       'Gross tertiary education enrollment (%)', 'Population',\n",
       "       'Unemployment rate', 'Urban_population', 'Latitude', 'Longitude'],\n",
       "      dtype='object')"
      ]
     },
     "execution_count": 27,
     "metadata": {},
     "output_type": "execute_result"
    }
   ],
   "source": [
    "df.columns # see all columns , we need to drop some columns"
   ]
  },
  {
   "cell_type": "markdown",
   "id": "c386decc",
   "metadata": {
    "papermill": {
     "duration": 0.010194,
     "end_time": "2023-08-15T22:49:19.370827",
     "exception": false,
     "start_time": "2023-08-15T22:49:19.360633",
     "status": "completed"
    },
    "tags": []
   },
   "source": [
    "# Adjusting Dataset , drop columns , duplicates , data types , adding new columns"
   ]
  },
  {
   "cell_type": "code",
   "execution_count": 28,
   "id": "ea146036",
   "metadata": {
    "papermill": {
     "duration": 0.019647,
     "end_time": "2023-08-15T22:49:19.400949",
     "exception": false,
     "start_time": "2023-08-15T22:49:19.381302",
     "status": "completed"
    },
    "tags": []
   },
   "outputs": [],
   "source": [
    "# Drop columns\n",
    "df=df.loc[:,\"rank\":\"created_year\"]"
   ]
  },
  {
   "cell_type": "code",
   "execution_count": 29,
   "id": "4c1145d8",
   "metadata": {
    "papermill": {
     "duration": 0.03366,
     "end_time": "2023-08-15T22:49:19.444970",
     "exception": false,
     "start_time": "2023-08-15T22:49:19.411310",
     "status": "completed"
    },
    "tags": []
   },
   "outputs": [
    {
     "data": {
      "text/html": [
       "<div>\n",
       "<style scoped>\n",
       "    .dataframe tbody tr th:only-of-type {\n",
       "        vertical-align: middle;\n",
       "    }\n",
       "\n",
       "    .dataframe tbody tr th {\n",
       "        vertical-align: top;\n",
       "    }\n",
       "\n",
       "    .dataframe thead th {\n",
       "        text-align: right;\n",
       "    }\n",
       "</style>\n",
       "<table border=\"1\" class=\"dataframe\">\n",
       "  <thead>\n",
       "    <tr style=\"text-align: right;\">\n",
       "      <th></th>\n",
       "      <th>rank</th>\n",
       "      <th>Youtuber</th>\n",
       "      <th>subscribers</th>\n",
       "      <th>video views</th>\n",
       "      <th>category</th>\n",
       "      <th>Title</th>\n",
       "      <th>uploads</th>\n",
       "      <th>Country</th>\n",
       "      <th>Abbreviation</th>\n",
       "      <th>channel_type</th>\n",
       "      <th>video_views_rank</th>\n",
       "      <th>country_rank</th>\n",
       "      <th>channel_type_rank</th>\n",
       "      <th>video_views_for_the_last_30_days</th>\n",
       "      <th>lowest_monthly_earnings</th>\n",
       "      <th>highest_monthly_earnings</th>\n",
       "      <th>lowest_yearly_earnings</th>\n",
       "      <th>highest_yearly_earnings</th>\n",
       "      <th>subscribers_for_last_30_days</th>\n",
       "      <th>created_year</th>\n",
       "    </tr>\n",
       "  </thead>\n",
       "  <tbody>\n",
       "    <tr>\n",
       "      <th>0</th>\n",
       "      <td>1</td>\n",
       "      <td>T-Series</td>\n",
       "      <td>245000000</td>\n",
       "      <td>2.280000e+11</td>\n",
       "      <td>Music</td>\n",
       "      <td>T-Series</td>\n",
       "      <td>20082</td>\n",
       "      <td>India</td>\n",
       "      <td>IN</td>\n",
       "      <td>Music</td>\n",
       "      <td>1.0</td>\n",
       "      <td>1.0</td>\n",
       "      <td>1.0</td>\n",
       "      <td>2.258000e+09</td>\n",
       "      <td>564600.0</td>\n",
       "      <td>9000000.00</td>\n",
       "      <td>6800000.00</td>\n",
       "      <td>1.084000e+08</td>\n",
       "      <td>2000000.0</td>\n",
       "      <td>2006.0</td>\n",
       "    </tr>\n",
       "    <tr>\n",
       "      <th>1</th>\n",
       "      <td>2</td>\n",
       "      <td>YouTube Movies</td>\n",
       "      <td>170000000</td>\n",
       "      <td>0.000000e+00</td>\n",
       "      <td>Film &amp; Animation</td>\n",
       "      <td>youtubemovies</td>\n",
       "      <td>1</td>\n",
       "      <td>United States</td>\n",
       "      <td>US</td>\n",
       "      <td>Games</td>\n",
       "      <td>4055159.0</td>\n",
       "      <td>7670.0</td>\n",
       "      <td>7423.0</td>\n",
       "      <td>1.200000e+01</td>\n",
       "      <td>0.0</td>\n",
       "      <td>0.05</td>\n",
       "      <td>0.04</td>\n",
       "      <td>5.800000e-01</td>\n",
       "      <td>NaN</td>\n",
       "      <td>2006.0</td>\n",
       "    </tr>\n",
       "    <tr>\n",
       "      <th>2</th>\n",
       "      <td>3</td>\n",
       "      <td>MrBeast</td>\n",
       "      <td>166000000</td>\n",
       "      <td>2.836884e+10</td>\n",
       "      <td>Entertainment</td>\n",
       "      <td>MrBeast</td>\n",
       "      <td>741</td>\n",
       "      <td>United States</td>\n",
       "      <td>US</td>\n",
       "      <td>Entertainment</td>\n",
       "      <td>48.0</td>\n",
       "      <td>1.0</td>\n",
       "      <td>1.0</td>\n",
       "      <td>1.348000e+09</td>\n",
       "      <td>337000.0</td>\n",
       "      <td>5400000.00</td>\n",
       "      <td>4000000.00</td>\n",
       "      <td>6.470000e+07</td>\n",
       "      <td>8000000.0</td>\n",
       "      <td>2012.0</td>\n",
       "    </tr>\n",
       "  </tbody>\n",
       "</table>\n",
       "</div>"
      ],
      "text/plain": [
       "   rank        Youtuber  subscribers   video views          category  \\\n",
       "0     1        T-Series    245000000  2.280000e+11             Music   \n",
       "1     2  YouTube Movies    170000000  0.000000e+00  Film & Animation   \n",
       "2     3         MrBeast    166000000  2.836884e+10     Entertainment   \n",
       "\n",
       "           Title  uploads        Country Abbreviation   channel_type  \\\n",
       "0       T-Series    20082          India           IN          Music   \n",
       "1  youtubemovies        1  United States           US          Games   \n",
       "2        MrBeast      741  United States           US  Entertainment   \n",
       "\n",
       "   video_views_rank  country_rank  channel_type_rank  \\\n",
       "0               1.0           1.0                1.0   \n",
       "1         4055159.0        7670.0             7423.0   \n",
       "2              48.0           1.0                1.0   \n",
       "\n",
       "   video_views_for_the_last_30_days  lowest_monthly_earnings  \\\n",
       "0                      2.258000e+09                 564600.0   \n",
       "1                      1.200000e+01                      0.0   \n",
       "2                      1.348000e+09                 337000.0   \n",
       "\n",
       "   highest_monthly_earnings  lowest_yearly_earnings  highest_yearly_earnings  \\\n",
       "0                9000000.00              6800000.00             1.084000e+08   \n",
       "1                      0.05                    0.04             5.800000e-01   \n",
       "2                5400000.00              4000000.00             6.470000e+07   \n",
       "\n",
       "   subscribers_for_last_30_days  created_year  \n",
       "0                     2000000.0        2006.0  \n",
       "1                           NaN        2006.0  \n",
       "2                     8000000.0        2012.0  "
      ]
     },
     "execution_count": 29,
     "metadata": {},
     "output_type": "execute_result"
    }
   ],
   "source": [
    "df.head(3)"
   ]
  },
  {
   "cell_type": "code",
   "execution_count": 30,
   "id": "16e145ac",
   "metadata": {
    "papermill": {
     "duration": 0.022633,
     "end_time": "2023-08-15T22:49:19.478380",
     "exception": false,
     "start_time": "2023-08-15T22:49:19.455747",
     "status": "completed"
    },
    "tags": []
   },
   "outputs": [
    {
     "data": {
      "text/plain": [
       "Index(['rank', 'Youtuber', 'subscribers', 'video views', 'category', 'Title',\n",
       "       'uploads', 'Country', 'Abbreviation', 'channel_type',\n",
       "       'video_views_rank', 'country_rank', 'channel_type_rank',\n",
       "       'video_views_for_the_last_30_days', 'lowest_monthly_earnings',\n",
       "       'highest_monthly_earnings', 'lowest_yearly_earnings',\n",
       "       'highest_yearly_earnings', 'subscribers_for_last_30_days',\n",
       "       'created_year'],\n",
       "      dtype='object')"
      ]
     },
     "execution_count": 30,
     "metadata": {},
     "output_type": "execute_result"
    }
   ],
   "source": [
    "df.columns # now columns seems good , we can use all columns in different ways"
   ]
  },
  {
   "cell_type": "code",
   "execution_count": 31,
   "id": "ed296864",
   "metadata": {
    "papermill": {
     "duration": 0.021302,
     "end_time": "2023-08-15T22:49:19.510481",
     "exception": false,
     "start_time": "2023-08-15T22:49:19.489179",
     "status": "completed"
    },
    "tags": []
   },
   "outputs": [
    {
     "data": {
      "text/plain": [
       "rank                                  int64\n",
       "Youtuber                             object\n",
       "subscribers                           int64\n",
       "video views                         float64\n",
       "category                             object\n",
       "Title                                object\n",
       "uploads                               int64\n",
       "Country                              object\n",
       "Abbreviation                         object\n",
       "channel_type                         object\n",
       "video_views_rank                    float64\n",
       "country_rank                        float64\n",
       "channel_type_rank                   float64\n",
       "video_views_for_the_last_30_days    float64\n",
       "lowest_monthly_earnings             float64\n",
       "highest_monthly_earnings            float64\n",
       "lowest_yearly_earnings              float64\n",
       "highest_yearly_earnings             float64\n",
       "subscribers_for_last_30_days        float64\n",
       "created_year                        float64\n",
       "dtype: object"
      ]
     },
     "execution_count": 31,
     "metadata": {},
     "output_type": "execute_result"
    }
   ],
   "source": [
    "# see datatypes\n",
    "df.dtypes # datatypes seems good , all numerical columns are in proper type"
   ]
  },
  {
   "cell_type": "markdown",
   "id": "13105d64",
   "metadata": {
    "papermill": {
     "duration": 0.011148,
     "end_time": "2023-08-15T22:49:19.531948",
     "exception": false,
     "start_time": "2023-08-15T22:49:19.520800",
     "status": "completed"
    },
    "tags": []
   },
   "source": [
    "check columns if there are wrong datas "
   ]
  },
  {
   "cell_type": "code",
   "execution_count": 32,
   "id": "f7490fda",
   "metadata": {
    "papermill": {
     "duration": 0.029158,
     "end_time": "2023-08-15T22:49:19.573258",
     "exception": false,
     "start_time": "2023-08-15T22:49:19.544100",
     "status": "completed"
    },
    "tags": []
   },
   "outputs": [
    {
     "data": {
      "text/plain": [
       "1      0.000000e+00\n",
       "5      0.000000e+00\n",
       "102    0.000000e+00\n",
       "592    0.000000e+00\n",
       "173    0.000000e+00\n",
       "           ...     \n",
       "6      9.324704e+10\n",
       "15     1.010000e+11\n",
       "4      1.480000e+11\n",
       "3      1.640000e+11\n",
       "0      2.280000e+11\n",
       "Name: video views, Length: 995, dtype: float64"
      ]
     },
     "execution_count": 32,
     "metadata": {},
     "output_type": "execute_result"
    }
   ],
   "source": [
    "df[\"video views\"].sort_values(ascending=True)  \n",
    "# there are some 0 views channels , lets check one of them "
   ]
  },
  {
   "cell_type": "code",
   "execution_count": 33,
   "id": "6ea53efe",
   "metadata": {
    "papermill": {
     "duration": 0.023437,
     "end_time": "2023-08-15T22:49:19.612088",
     "exception": false,
     "start_time": "2023-08-15T22:49:19.588651",
     "status": "completed"
    },
    "tags": []
   },
   "outputs": [
    {
     "data": {
      "text/plain": [
       "rank                                               2\n",
       "Youtuber                              YouTube Movies\n",
       "subscribers                                170000000\n",
       "video views                                      0.0\n",
       "category                            Film & Animation\n",
       "Title                                  youtubemovies\n",
       "uploads                                            1\n",
       "Country                                United States\n",
       "Abbreviation                                      US\n",
       "channel_type                                   Games\n",
       "video_views_rank                           4055159.0\n",
       "country_rank                                  7670.0\n",
       "channel_type_rank                             7423.0\n",
       "video_views_for_the_last_30_days                12.0\n",
       "lowest_monthly_earnings                          0.0\n",
       "highest_monthly_earnings                        0.05\n",
       "lowest_yearly_earnings                          0.04\n",
       "highest_yearly_earnings                         0.58\n",
       "subscribers_for_last_30_days                     NaN\n",
       "created_year                                  2006.0\n",
       "Name: 1, dtype: object"
      ]
     },
     "execution_count": 33,
     "metadata": {},
     "output_type": "execute_result"
    }
   ],
   "source": [
    "# check index 1\n",
    "df.iloc[1]\n",
    "# it seems YouTube Movies has 0 views but it is not True , i checked it\n",
    "# we can drop o views"
   ]
  },
  {
   "cell_type": "code",
   "execution_count": 34,
   "id": "5b0b3a55",
   "metadata": {
    "papermill": {
     "duration": 0.034215,
     "end_time": "2023-08-15T22:49:19.658986",
     "exception": false,
     "start_time": "2023-08-15T22:49:19.624771",
     "status": "completed"
    },
    "tags": []
   },
   "outputs": [],
   "source": [
    "# drop 0 views\n",
    "(df[df[\"video views\"]==0]).index # this give us index list \n",
    "df=df.drop(axis=0,index=(df[df[\"video views\"]==0]).index)"
   ]
  },
  {
   "cell_type": "markdown",
   "id": "a0ec67bf",
   "metadata": {
    "papermill": {
     "duration": 0.013513,
     "end_time": "2023-08-15T22:49:19.687882",
     "exception": false,
     "start_time": "2023-08-15T22:49:19.674369",
     "status": "completed"
    },
    "tags": []
   },
   "source": [
    "we can create new column that named 'highest yearly category' , we will do this with 'highest_yearly_earnings' column\n",
    "For example if earning is more than 5000000 we will call this excellent if it is lower than 10000 we will call this poor\n",
    "we can use this column in graphs , bars"
   ]
  },
  {
   "cell_type": "code",
   "execution_count": 35,
   "id": "472e27ab",
   "metadata": {
    "papermill": {
     "duration": 0.031028,
     "end_time": "2023-08-15T22:49:19.733134",
     "exception": false,
     "start_time": "2023-08-15T22:49:19.702106",
     "status": "completed"
    },
    "tags": []
   },
   "outputs": [
    {
     "data": {
      "text/plain": [
       "['Excellent', 'Excellent', 'Excellent', 'Excellent', 'Excellent', 'very good']"
      ]
     },
     "execution_count": 35,
     "metadata": {},
     "output_type": "execute_result"
    }
   ],
   "source": [
    "income_list=[]  # income list\n",
    "def earn_convert(num):\n",
    "    income=\"\"\n",
    "    if num>5000000:\n",
    "        income=\"Excellent\"\n",
    "    elif 1000000<num<5000000:\n",
    "        income=\"very good\"\n",
    "    elif 500000<num<1000000:\n",
    "        income=\"good\"\n",
    "    elif 100000<num<500000:\n",
    "        income=\"normal\"\n",
    "    elif 10000<num<100000:\n",
    "        income=\"bad\"\n",
    "    elif num<10000:\n",
    "        income=\"poor\"\n",
    "    income_list.append(income)\n",
    "    \n",
    "df[\"highest_yearly_earnings\"].map(earn_convert) # use map to interact with dataframes specific column\n",
    "income_list[:6] # print first values to see everything is okey"
   ]
  },
  {
   "cell_type": "code",
   "execution_count": 36,
   "id": "38ca6cb1",
   "metadata": {
    "papermill": {
     "duration": 0.022777,
     "end_time": "2023-08-15T22:49:19.771013",
     "exception": false,
     "start_time": "2023-08-15T22:49:19.748236",
     "status": "completed"
    },
    "tags": []
   },
   "outputs": [],
   "source": [
    "df[\"highest yearly category\"]=income_list  # assign new column "
   ]
  },
  {
   "cell_type": "code",
   "execution_count": 37,
   "id": "7ad67fef",
   "metadata": {
    "papermill": {
     "duration": 0.047307,
     "end_time": "2023-08-15T22:49:19.837317",
     "exception": false,
     "start_time": "2023-08-15T22:49:19.790010",
     "status": "completed"
    },
    "tags": []
   },
   "outputs": [
    {
     "data": {
      "text/html": [
       "<div>\n",
       "<style scoped>\n",
       "    .dataframe tbody tr th:only-of-type {\n",
       "        vertical-align: middle;\n",
       "    }\n",
       "\n",
       "    .dataframe tbody tr th {\n",
       "        vertical-align: top;\n",
       "    }\n",
       "\n",
       "    .dataframe thead th {\n",
       "        text-align: right;\n",
       "    }\n",
       "</style>\n",
       "<table border=\"1\" class=\"dataframe\">\n",
       "  <thead>\n",
       "    <tr style=\"text-align: right;\">\n",
       "      <th></th>\n",
       "      <th>rank</th>\n",
       "      <th>Youtuber</th>\n",
       "      <th>subscribers</th>\n",
       "      <th>video views</th>\n",
       "      <th>category</th>\n",
       "      <th>Title</th>\n",
       "      <th>uploads</th>\n",
       "      <th>Country</th>\n",
       "      <th>Abbreviation</th>\n",
       "      <th>channel_type</th>\n",
       "      <th>...</th>\n",
       "      <th>country_rank</th>\n",
       "      <th>channel_type_rank</th>\n",
       "      <th>video_views_for_the_last_30_days</th>\n",
       "      <th>lowest_monthly_earnings</th>\n",
       "      <th>highest_monthly_earnings</th>\n",
       "      <th>lowest_yearly_earnings</th>\n",
       "      <th>highest_yearly_earnings</th>\n",
       "      <th>subscribers_for_last_30_days</th>\n",
       "      <th>created_year</th>\n",
       "      <th>highest yearly category</th>\n",
       "    </tr>\n",
       "  </thead>\n",
       "  <tbody>\n",
       "    <tr>\n",
       "      <th>992</th>\n",
       "      <td>993</td>\n",
       "      <td>Panda</td>\n",
       "      <td>12300000</td>\n",
       "      <td>2.214684e+09</td>\n",
       "      <td>NaN</td>\n",
       "      <td>HybridPanda</td>\n",
       "      <td>2452</td>\n",
       "      <td>United Kingdom</td>\n",
       "      <td>GB</td>\n",
       "      <td>Games</td>\n",
       "      <td>...</td>\n",
       "      <td>867.0</td>\n",
       "      <td>1202.0</td>\n",
       "      <td>67035.0</td>\n",
       "      <td>17.0</td>\n",
       "      <td>268.0</td>\n",
       "      <td>201.0</td>\n",
       "      <td>3200.0</td>\n",
       "      <td>1000.0</td>\n",
       "      <td>2006.0</td>\n",
       "      <td>poor</td>\n",
       "    </tr>\n",
       "    <tr>\n",
       "      <th>993</th>\n",
       "      <td>994</td>\n",
       "      <td>RobTopGames</td>\n",
       "      <td>12300000</td>\n",
       "      <td>3.741235e+08</td>\n",
       "      <td>Gaming</td>\n",
       "      <td>RobTopGames</td>\n",
       "      <td>39</td>\n",
       "      <td>Sweden</td>\n",
       "      <td>SE</td>\n",
       "      <td>Games</td>\n",
       "      <td>...</td>\n",
       "      <td>4.0</td>\n",
       "      <td>69.0</td>\n",
       "      <td>3871000.0</td>\n",
       "      <td>968.0</td>\n",
       "      <td>15500.0</td>\n",
       "      <td>11600.0</td>\n",
       "      <td>185800.0</td>\n",
       "      <td>100000.0</td>\n",
       "      <td>2012.0</td>\n",
       "      <td>normal</td>\n",
       "    </tr>\n",
       "    <tr>\n",
       "      <th>994</th>\n",
       "      <td>995</td>\n",
       "      <td>Make Joke Of</td>\n",
       "      <td>12300000</td>\n",
       "      <td>2.129774e+09</td>\n",
       "      <td>Comedy</td>\n",
       "      <td>Make Joke Of</td>\n",
       "      <td>62</td>\n",
       "      <td>India</td>\n",
       "      <td>IN</td>\n",
       "      <td>Comedy</td>\n",
       "      <td>...</td>\n",
       "      <td>125.0</td>\n",
       "      <td>44.0</td>\n",
       "      <td>24000000.0</td>\n",
       "      <td>6000.0</td>\n",
       "      <td>96000.0</td>\n",
       "      <td>72000.0</td>\n",
       "      <td>1200000.0</td>\n",
       "      <td>100000.0</td>\n",
       "      <td>2017.0</td>\n",
       "      <td>very good</td>\n",
       "    </tr>\n",
       "  </tbody>\n",
       "</table>\n",
       "<p>3 rows × 21 columns</p>\n",
       "</div>"
      ],
      "text/plain": [
       "     rank      Youtuber  subscribers   video views category         Title  \\\n",
       "992   993         Panda     12300000  2.214684e+09      NaN   HybridPanda   \n",
       "993   994   RobTopGames     12300000  3.741235e+08   Gaming   RobTopGames   \n",
       "994   995  Make Joke Of     12300000  2.129774e+09   Comedy  Make Joke Of   \n",
       "\n",
       "     uploads         Country Abbreviation channel_type  ...  country_rank  \\\n",
       "992     2452  United Kingdom           GB        Games  ...         867.0   \n",
       "993       39          Sweden           SE        Games  ...           4.0   \n",
       "994       62           India           IN       Comedy  ...         125.0   \n",
       "\n",
       "     channel_type_rank  video_views_for_the_last_30_days  \\\n",
       "992             1202.0                           67035.0   \n",
       "993               69.0                         3871000.0   \n",
       "994               44.0                        24000000.0   \n",
       "\n",
       "     lowest_monthly_earnings  highest_monthly_earnings  \\\n",
       "992                     17.0                     268.0   \n",
       "993                    968.0                   15500.0   \n",
       "994                   6000.0                   96000.0   \n",
       "\n",
       "     lowest_yearly_earnings  highest_yearly_earnings  \\\n",
       "992                   201.0                   3200.0   \n",
       "993                 11600.0                 185800.0   \n",
       "994                 72000.0                1200000.0   \n",
       "\n",
       "     subscribers_for_last_30_days  created_year  highest yearly category  \n",
       "992                        1000.0        2006.0                     poor  \n",
       "993                      100000.0        2012.0                   normal  \n",
       "994                      100000.0        2017.0                very good  \n",
       "\n",
       "[3 rows x 21 columns]"
      ]
     },
     "execution_count": 37,
     "metadata": {},
     "output_type": "execute_result"
    }
   ],
   "source": [
    "df.tail(3) # check column is okey "
   ]
  },
  {
   "cell_type": "markdown",
   "id": "5f0213ca",
   "metadata": {
    "papermill": {
     "duration": 0.011318,
     "end_time": "2023-08-15T22:49:19.886562",
     "exception": false,
     "start_time": "2023-08-15T22:49:19.875244",
     "status": "completed"
    },
    "tags": []
   },
   "source": [
    "# Plottings  : Graph , Bar , Scatter , Pie"
   ]
  },
  {
   "cell_type": "code",
   "execution_count": 38,
   "id": "fed82dca",
   "metadata": {
    "papermill": {
     "duration": 0.055595,
     "end_time": "2023-08-15T22:49:19.954624",
     "exception": false,
     "start_time": "2023-08-15T22:49:19.899029",
     "status": "completed"
    },
    "tags": []
   },
   "outputs": [
    {
     "data": {
      "text/html": [
       "<div>\n",
       "<style scoped>\n",
       "    .dataframe tbody tr th:only-of-type {\n",
       "        vertical-align: middle;\n",
       "    }\n",
       "\n",
       "    .dataframe tbody tr th {\n",
       "        vertical-align: top;\n",
       "    }\n",
       "\n",
       "    .dataframe thead th {\n",
       "        text-align: right;\n",
       "    }\n",
       "</style>\n",
       "<table border=\"1\" class=\"dataframe\">\n",
       "  <thead>\n",
       "    <tr style=\"text-align: right;\">\n",
       "      <th></th>\n",
       "      <th>rank</th>\n",
       "      <th>Youtuber</th>\n",
       "      <th>subscribers</th>\n",
       "      <th>video views</th>\n",
       "      <th>category</th>\n",
       "      <th>Title</th>\n",
       "      <th>uploads</th>\n",
       "      <th>Country</th>\n",
       "      <th>Abbreviation</th>\n",
       "      <th>channel_type</th>\n",
       "      <th>...</th>\n",
       "      <th>country_rank</th>\n",
       "      <th>channel_type_rank</th>\n",
       "      <th>video_views_for_the_last_30_days</th>\n",
       "      <th>lowest_monthly_earnings</th>\n",
       "      <th>highest_monthly_earnings</th>\n",
       "      <th>lowest_yearly_earnings</th>\n",
       "      <th>highest_yearly_earnings</th>\n",
       "      <th>subscribers_for_last_30_days</th>\n",
       "      <th>created_year</th>\n",
       "      <th>highest yearly category</th>\n",
       "    </tr>\n",
       "  </thead>\n",
       "  <tbody>\n",
       "    <tr>\n",
       "      <th>0</th>\n",
       "      <td>1</td>\n",
       "      <td>T-Series</td>\n",
       "      <td>245000000</td>\n",
       "      <td>2.280000e+11</td>\n",
       "      <td>Music</td>\n",
       "      <td>T-Series</td>\n",
       "      <td>20082</td>\n",
       "      <td>India</td>\n",
       "      <td>IN</td>\n",
       "      <td>Music</td>\n",
       "      <td>...</td>\n",
       "      <td>1.0</td>\n",
       "      <td>1.0</td>\n",
       "      <td>2.258000e+09</td>\n",
       "      <td>564600.0</td>\n",
       "      <td>9000000.0</td>\n",
       "      <td>6800000.0</td>\n",
       "      <td>108400000.0</td>\n",
       "      <td>2000000.0</td>\n",
       "      <td>2006.0</td>\n",
       "      <td>Excellent</td>\n",
       "    </tr>\n",
       "    <tr>\n",
       "      <th>2</th>\n",
       "      <td>3</td>\n",
       "      <td>MrBeast</td>\n",
       "      <td>166000000</td>\n",
       "      <td>2.836884e+10</td>\n",
       "      <td>Entertainment</td>\n",
       "      <td>MrBeast</td>\n",
       "      <td>741</td>\n",
       "      <td>United States</td>\n",
       "      <td>US</td>\n",
       "      <td>Entertainment</td>\n",
       "      <td>...</td>\n",
       "      <td>1.0</td>\n",
       "      <td>1.0</td>\n",
       "      <td>1.348000e+09</td>\n",
       "      <td>337000.0</td>\n",
       "      <td>5400000.0</td>\n",
       "      <td>4000000.0</td>\n",
       "      <td>64700000.0</td>\n",
       "      <td>8000000.0</td>\n",
       "      <td>2012.0</td>\n",
       "      <td>Excellent</td>\n",
       "    </tr>\n",
       "    <tr>\n",
       "      <th>3</th>\n",
       "      <td>4</td>\n",
       "      <td>Cocomelon - Nursery Rhymes</td>\n",
       "      <td>162000000</td>\n",
       "      <td>1.640000e+11</td>\n",
       "      <td>Education</td>\n",
       "      <td>Cocomelon - Nursery Rhymes</td>\n",
       "      <td>966</td>\n",
       "      <td>United States</td>\n",
       "      <td>US</td>\n",
       "      <td>Education</td>\n",
       "      <td>...</td>\n",
       "      <td>2.0</td>\n",
       "      <td>1.0</td>\n",
       "      <td>1.975000e+09</td>\n",
       "      <td>493800.0</td>\n",
       "      <td>7900000.0</td>\n",
       "      <td>5900000.0</td>\n",
       "      <td>94800000.0</td>\n",
       "      <td>1000000.0</td>\n",
       "      <td>2006.0</td>\n",
       "      <td>Excellent</td>\n",
       "    </tr>\n",
       "  </tbody>\n",
       "</table>\n",
       "<p>3 rows × 21 columns</p>\n",
       "</div>"
      ],
      "text/plain": [
       "   rank                    Youtuber  subscribers   video views       category  \\\n",
       "0     1                    T-Series    245000000  2.280000e+11          Music   \n",
       "2     3                     MrBeast    166000000  2.836884e+10  Entertainment   \n",
       "3     4  Cocomelon - Nursery Rhymes    162000000  1.640000e+11      Education   \n",
       "\n",
       "                        Title  uploads        Country Abbreviation  \\\n",
       "0                    T-Series    20082          India           IN   \n",
       "2                     MrBeast      741  United States           US   \n",
       "3  Cocomelon - Nursery Rhymes      966  United States           US   \n",
       "\n",
       "    channel_type  ...  country_rank  channel_type_rank  \\\n",
       "0          Music  ...           1.0                1.0   \n",
       "2  Entertainment  ...           1.0                1.0   \n",
       "3      Education  ...           2.0                1.0   \n",
       "\n",
       "   video_views_for_the_last_30_days  lowest_monthly_earnings  \\\n",
       "0                      2.258000e+09                 564600.0   \n",
       "2                      1.348000e+09                 337000.0   \n",
       "3                      1.975000e+09                 493800.0   \n",
       "\n",
       "   highest_monthly_earnings  lowest_yearly_earnings  highest_yearly_earnings  \\\n",
       "0                 9000000.0               6800000.0              108400000.0   \n",
       "2                 5400000.0               4000000.0               64700000.0   \n",
       "3                 7900000.0               5900000.0               94800000.0   \n",
       "\n",
       "   subscribers_for_last_30_days  created_year  highest yearly category  \n",
       "0                     2000000.0        2006.0                Excellent  \n",
       "2                     8000000.0        2012.0                Excellent  \n",
       "3                     1000000.0        2006.0                Excellent  \n",
       "\n",
       "[3 rows x 21 columns]"
      ]
     },
     "execution_count": 38,
     "metadata": {},
     "output_type": "execute_result"
    }
   ],
   "source": [
    "df.head(3)"
   ]
  },
  {
   "cell_type": "markdown",
   "id": "a5f4108e",
   "metadata": {
    "papermill": {
     "duration": 0.014958,
     "end_time": "2023-08-15T22:49:19.984365",
     "exception": false,
     "start_time": "2023-08-15T22:49:19.969407",
     "status": "completed"
    },
    "tags": []
   },
   "source": [
    "* lets see how many channel created in yearly in plot and bar"
   ]
  },
  {
   "cell_type": "code",
   "execution_count": 39,
   "id": "2065315e",
   "metadata": {
    "papermill": {
     "duration": 0.03805,
     "end_time": "2023-08-15T22:49:20.036864",
     "exception": false,
     "start_time": "2023-08-15T22:49:19.998814",
     "status": "completed"
    },
    "scrolled": true,
    "tags": []
   },
   "outputs": [
    {
     "data": {
      "text/html": [
       "<div>\n",
       "<style scoped>\n",
       "    .dataframe tbody tr th:only-of-type {\n",
       "        vertical-align: middle;\n",
       "    }\n",
       "\n",
       "    .dataframe tbody tr th {\n",
       "        vertical-align: top;\n",
       "    }\n",
       "\n",
       "    .dataframe thead th {\n",
       "        text-align: right;\n",
       "    }\n",
       "</style>\n",
       "<table border=\"1\" class=\"dataframe\">\n",
       "  <thead>\n",
       "    <tr style=\"text-align: right;\">\n",
       "      <th></th>\n",
       "      <th>created_year</th>\n",
       "      <th>count</th>\n",
       "    </tr>\n",
       "  </thead>\n",
       "  <tbody>\n",
       "    <tr>\n",
       "      <th>0</th>\n",
       "      <td>2014.0</td>\n",
       "      <td>98</td>\n",
       "    </tr>\n",
       "    <tr>\n",
       "      <th>1</th>\n",
       "      <td>2006.0</td>\n",
       "      <td>89</td>\n",
       "    </tr>\n",
       "    <tr>\n",
       "      <th>2</th>\n",
       "      <td>2011.0</td>\n",
       "      <td>82</td>\n",
       "    </tr>\n",
       "    <tr>\n",
       "      <th>3</th>\n",
       "      <td>2016.0</td>\n",
       "      <td>77</td>\n",
       "    </tr>\n",
       "    <tr>\n",
       "      <th>4</th>\n",
       "      <td>2015.0</td>\n",
       "      <td>72</td>\n",
       "    </tr>\n",
       "    <tr>\n",
       "      <th>5</th>\n",
       "      <td>2013.0</td>\n",
       "      <td>72</td>\n",
       "    </tr>\n",
       "    <tr>\n",
       "      <th>6</th>\n",
       "      <td>2012.0</td>\n",
       "      <td>68</td>\n",
       "    </tr>\n",
       "    <tr>\n",
       "      <th>7</th>\n",
       "      <td>2017.0</td>\n",
       "      <td>67</td>\n",
       "    </tr>\n",
       "    <tr>\n",
       "      <th>8</th>\n",
       "      <td>2009.0</td>\n",
       "      <td>52</td>\n",
       "    </tr>\n",
       "    <tr>\n",
       "      <th>9</th>\n",
       "      <td>2007.0</td>\n",
       "      <td>49</td>\n",
       "    </tr>\n",
       "    <tr>\n",
       "      <th>10</th>\n",
       "      <td>2010.0</td>\n",
       "      <td>48</td>\n",
       "    </tr>\n",
       "    <tr>\n",
       "      <th>11</th>\n",
       "      <td>2008.0</td>\n",
       "      <td>46</td>\n",
       "    </tr>\n",
       "    <tr>\n",
       "      <th>12</th>\n",
       "      <td>2018.0</td>\n",
       "      <td>46</td>\n",
       "    </tr>\n",
       "    <tr>\n",
       "      <th>13</th>\n",
       "      <td>2019.0</td>\n",
       "      <td>33</td>\n",
       "    </tr>\n",
       "    <tr>\n",
       "      <th>14</th>\n",
       "      <td>2020.0</td>\n",
       "      <td>30</td>\n",
       "    </tr>\n",
       "    <tr>\n",
       "      <th>15</th>\n",
       "      <td>2005.0</td>\n",
       "      <td>24</td>\n",
       "    </tr>\n",
       "    <tr>\n",
       "      <th>16</th>\n",
       "      <td>2021.0</td>\n",
       "      <td>23</td>\n",
       "    </tr>\n",
       "    <tr>\n",
       "      <th>17</th>\n",
       "      <td>2022.0</td>\n",
       "      <td>5</td>\n",
       "    </tr>\n",
       "    <tr>\n",
       "      <th>18</th>\n",
       "      <td>1970.0</td>\n",
       "      <td>1</td>\n",
       "    </tr>\n",
       "  </tbody>\n",
       "</table>\n",
       "</div>"
      ],
      "text/plain": [
       "    created_year  count\n",
       "0         2014.0     98\n",
       "1         2006.0     89\n",
       "2         2011.0     82\n",
       "3         2016.0     77\n",
       "4         2015.0     72\n",
       "5         2013.0     72\n",
       "6         2012.0     68\n",
       "7         2017.0     67\n",
       "8         2009.0     52\n",
       "9         2007.0     49\n",
       "10        2010.0     48\n",
       "11        2008.0     46\n",
       "12        2018.0     46\n",
       "13        2019.0     33\n",
       "14        2020.0     30\n",
       "15        2005.0     24\n",
       "16        2021.0     23\n",
       "17        2022.0      5\n",
       "18        1970.0      1"
      ]
     },
     "execution_count": 39,
     "metadata": {},
     "output_type": "execute_result"
    }
   ],
   "source": [
    "# i will use column named 'created_year'\n",
    "yearly_channel=df[\"created_year\"].value_counts()\n",
    "yearly_channel=yearly_channel.reset_index()\n",
    "yearly_channel"
   ]
  },
  {
   "cell_type": "code",
   "execution_count": 42,
   "id": "55478d57",
   "metadata": {
    "papermill": {
     "duration": 0.025307,
     "end_time": "2023-08-15T22:49:20.109633",
     "exception": false,
     "start_time": "2023-08-15T22:49:20.084326",
     "status": "completed"
    },
    "tags": []
   },
   "outputs": [
    {
     "data": {
      "text/html": [
       "<div>\n",
       "<style scoped>\n",
       "    .dataframe tbody tr th:only-of-type {\n",
       "        vertical-align: middle;\n",
       "    }\n",
       "\n",
       "    .dataframe tbody tr th {\n",
       "        vertical-align: top;\n",
       "    }\n",
       "\n",
       "    .dataframe thead th {\n",
       "        text-align: right;\n",
       "    }\n",
       "</style>\n",
       "<table border=\"1\" class=\"dataframe\">\n",
       "  <thead>\n",
       "    <tr style=\"text-align: right;\">\n",
       "      <th></th>\n",
       "      <th>created_year</th>\n",
       "      <th>count</th>\n",
       "    </tr>\n",
       "  </thead>\n",
       "  <tbody>\n",
       "    <tr>\n",
       "      <th>18</th>\n",
       "      <td>1970.0</td>\n",
       "      <td>1</td>\n",
       "    </tr>\n",
       "    <tr>\n",
       "      <th>15</th>\n",
       "      <td>2005.0</td>\n",
       "      <td>24</td>\n",
       "    </tr>\n",
       "    <tr>\n",
       "      <th>1</th>\n",
       "      <td>2006.0</td>\n",
       "      <td>89</td>\n",
       "    </tr>\n",
       "  </tbody>\n",
       "</table>\n",
       "</div>"
      ],
      "text/plain": [
       "    created_year  count\n",
       "18        1970.0      1\n",
       "15        2005.0     24\n",
       "1         2006.0     89"
      ]
     },
     "execution_count": 42,
     "metadata": {},
     "output_type": "execute_result"
    }
   ],
   "source": [
    "# now lets sort it by year in ascending order\n",
    "yearly_channel=yearly_channel.sort_values(by=\"created_year\",ascending=True) # yes , now years are in ascending order\n",
    "yearly_channel.head(3)\n",
    "# we have another problem there is a channel that created in 1975 , impossible , drop it"
   ]
  },
  {
   "cell_type": "code",
   "execution_count": 44,
   "id": "75afcc24",
   "metadata": {
    "papermill": {
     "duration": 0.300885,
     "end_time": "2023-08-15T22:49:20.425775",
     "exception": false,
     "start_time": "2023-08-15T22:49:20.124890",
     "status": "completed"
    },
    "tags": []
   },
   "outputs": [
    {
     "data": {
      "text/plain": [
       "[<matplotlib.lines.Line2D at 0x18536a3bd30>]"
      ]
     },
     "execution_count": 44,
     "metadata": {},
     "output_type": "execute_result"
    },
    {
     "data": {
      "image/png": "[encoded data removed]",
      "text/plain": [
       "<Figure size 800x600 with 1 Axes>"
      ]
     },
     "metadata": {},
     "output_type": "display_data"
    }
   ],
   "source": [
    "# Plot of channel number - year\n",
    "\n",
    "x=yearly_channel[\"created_year\"][1:] # dont include 1975\n",
    "y=yearly_channel[\"count\"][1:]\n",
    "\n",
    "# lets set limit values to axis\n",
    "plt.ylim(0,100)\n",
    "plt.xlim(2005,2022)\n",
    "\n",
    "# labels\n",
    "plt.xlabel(\"Year\")\n",
    "plt.ylabel(\"number of channel\")\n",
    "plt.title(\"number of channel created - year\")\n",
    "\n",
    "plt.grid(True)\n",
    "\n",
    "plt.plot(x,y)  # waw , 2014 is in top "
   ]
  },
  {
   "cell_type": "code",
   "execution_count": 45,
   "id": "08d6d0d0",
   "metadata": {
    "papermill": {
     "duration": 0.023005,
     "end_time": "2023-08-15T22:49:20.462820",
     "exception": false,
     "start_time": "2023-08-15T22:49:20.439815",
     "status": "completed"
    },
    "tags": []
   },
   "outputs": [],
   "source": [
    "plt.rcParams[\"figure.figsize\"] = (16,6)"
   ]
  },
  {
   "cell_type": "code",
   "execution_count": 46,
   "id": "411d3d5d",
   "metadata": {
    "papermill": {
     "duration": 0.291826,
     "end_time": "2023-08-15T22:49:20.768298",
     "exception": false,
     "start_time": "2023-08-15T22:49:20.476472",
     "status": "completed"
    },
    "tags": []
   },
   "outputs": [
    {
     "data": {
      "text/plain": [
       "Text(0.5, 1.0, 'number of channel created - year')"
      ]
     },
     "execution_count": 46,
     "metadata": {},
     "output_type": "execute_result"
    },
    {
     "data": {
      "image/png": "[encoded data removed]",
      "text/plain": [
       "<Figure size 1600x600 with 1 Axes>"
      ]
     },
     "metadata": {},
     "output_type": "display_data"
    }
   ],
   "source": [
    "# Bar of channel number - year\n",
    "\n",
    "plt.bar(x,y)\n",
    "plt.xlim(2004,2022)\n",
    "\n",
    "plt.xlabel(\"Year\")\n",
    "plt.ylabel(\"number of channel\")\n",
    "plt.title(\"number of channel created - year\")"
   ]
  },
  {
   "cell_type": "code",
   "execution_count": 47,
   "id": "44d22ccd",
   "metadata": {
    "papermill": {
     "duration": 0.023714,
     "end_time": "2023-08-15T22:49:20.805308",
     "exception": false,
     "start_time": "2023-08-15T22:49:20.781594",
     "status": "completed"
    },
    "tags": []
   },
   "outputs": [],
   "source": [
    "plt.rcParams[\"figure.figsize\"] = (8,6)"
   ]
  },
  {
   "cell_type": "markdown",
   "id": "580d55b9",
   "metadata": {
    "papermill": {
     "duration": 0.014067,
     "end_time": "2023-08-15T22:49:20.832696",
     "exception": false,
     "start_time": "2023-08-15T22:49:20.818629",
     "status": "completed"
    },
    "tags": []
   },
   "source": [
    "* lets see total view - Subscriber connection with scatter plot"
   ]
  },
  {
   "cell_type": "code",
   "execution_count": 48,
   "id": "9b1ff13a",
   "metadata": {
    "papermill": {
     "duration": 0.274672,
     "end_time": "2023-08-15T22:49:21.121266",
     "exception": false,
     "start_time": "2023-08-15T22:49:20.846594",
     "status": "completed"
    },
    "tags": []
   },
   "outputs": [
    {
     "data": {
      "text/plain": [
       "Text(0, 0.5, 'total views')"
      ]
     },
     "execution_count": 48,
     "metadata": {},
     "output_type": "execute_result"
    },
    {
     "data": {
      "image/png": "[encoded data removed]",
      "text/plain": [
       "<Figure size 800x600 with 1 Axes>"
      ]
     },
     "metadata": {},
     "output_type": "display_data"
    }
   ],
   "source": [
    "x=df[\"subscribers\"]\n",
    "y=df[\"video views\"]\n",
    "\n",
    "plt.scatter(x,y,s=y*0.0000000005,c=y*0.01) # s values represents size of circle : here i arange higher view has bigger circle , c value is color not that important now\n",
    "\n",
    "plt.ticklabel_format(style='plain') # this line remove 'e' values (scientific notation)\n",
    "\n",
    "# labels\n",
    "plt.title(\"Total view - Subscriber  Scatter\") # we can see there is a good connection between two column\n",
    "plt.xlabel(\"subscribers\",labelpad=12)\n",
    "plt.ylabel(\"total views\",labelpad=12)"
   ]
  },
  {
   "cell_type": "code",
   "execution_count": null,
   "id": "a87e384f",
   "metadata": {
    "papermill": {
     "duration": 0.013841,
     "end_time": "2023-08-15T22:49:21.149926",
     "exception": false,
     "start_time": "2023-08-15T22:49:21.136085",
     "status": "completed"
    },
    "tags": []
   },
   "outputs": [],
   "source": []
  },
  {
   "cell_type": "markdown",
   "id": "c54efbb1",
   "metadata": {
    "papermill": {
     "duration": 0.014278,
     "end_time": "2023-08-15T22:49:21.178024",
     "exception": false,
     "start_time": "2023-08-15T22:49:21.163746",
     "status": "completed"
    },
    "tags": []
   },
   "source": [
    "now lets see channel type distributions in chart pie"
   ]
  },
  {
   "cell_type": "code",
   "execution_count": 49,
   "id": "840c2ccf",
   "metadata": {
    "papermill": {
     "duration": 0.02849,
     "end_time": "2023-08-15T22:49:21.220305",
     "exception": false,
     "start_time": "2023-08-15T22:49:21.191815",
     "status": "completed"
    },
    "tags": []
   },
   "outputs": [
    {
     "data": {
      "text/plain": [
       "channel_type\n",
       "Entertainment    303\n",
       "Music            215\n",
       "People           101\n",
       "Games             95\n",
       "Comedy            51\n",
       "Education         48\n",
       "Film              42\n",
       "Howto             36\n",
       "News              30\n",
       "Tech              17\n",
       "Sports            13\n",
       "Autos              3\n",
       "Animals            3\n",
       "Nonprofit          2\n",
       "Name: count, dtype: int64"
      ]
     },
     "execution_count": 49,
     "metadata": {},
     "output_type": "execute_result"
    }
   ],
   "source": [
    "channel_type=df[\"channel_type\"].value_counts()\n",
    "channel_type"
   ]
  },
  {
   "cell_type": "code",
   "execution_count": 50,
   "id": "7c2ee79b",
   "metadata": {
    "papermill": {
     "duration": 0.023195,
     "end_time": "2023-08-15T22:49:21.257450",
     "exception": false,
     "start_time": "2023-08-15T22:49:21.234255",
     "status": "completed"
    },
    "tags": []
   },
   "outputs": [],
   "source": [
    "plt.rcParams[\"figure.figsize\"] = (8,7) # adjust chart size for better visualization"
   ]
  },
  {
   "cell_type": "code",
   "execution_count": 51,
   "id": "47e88088",
   "metadata": {
    "papermill": {
     "duration": 0.354397,
     "end_time": "2023-08-15T22:49:21.626128",
     "exception": false,
     "start_time": "2023-08-15T22:49:21.271731",
     "status": "completed"
    },
    "tags": []
   },
   "outputs": [
    {
     "data": {
      "text/plain": [
       "Text(0.5, 1.0, 'Distribution of channels')"
      ]
     },
     "execution_count": 51,
     "metadata": {},
     "output_type": "execute_result"
    },
    {
     "data": {
      "image/png": "[encoded data removed]",
      "text/plain": [
       "<Figure size 800x700 with 1 Axes>"
      ]
     },
     "metadata": {},
     "output_type": "display_data"
    }
   ],
   "source": [
    "# i am not gonna use last 3 value because they are very small \n",
    "plt.pie(channel_type[:-3],labels=channel_type.index[:-3],autopct='%1.1f%%') # autopct='%1.1f%%' provides  percentage values to be on the top \n",
    "plt.title(\"Distribution of channels\") "
   ]
  },
  {
   "cell_type": "markdown",
   "id": "a7073e65",
   "metadata": {
    "papermill": {
     "duration": 0.019138,
     "end_time": "2023-08-15T22:49:21.664350",
     "exception": false,
     "start_time": "2023-08-15T22:49:21.645212",
     "status": "completed"
    },
    "tags": []
   },
   "source": [
    "* lets see count of channel created  in every country in bar\n",
    "countries=df[\"Country\"].value_counts()"
   ]
  },
  {
   "cell_type": "code",
   "execution_count": 52,
   "id": "6cef7195",
   "metadata": {
    "papermill": {
     "duration": 0.024617,
     "end_time": "2023-08-15T22:49:21.704397",
     "exception": false,
     "start_time": "2023-08-15T22:49:21.679780",
     "status": "completed"
    },
    "scrolled": true,
    "tags": []
   },
   "outputs": [
    {
     "data": {
      "text/plain": [
       "Country\n",
       "United States           311\n",
       "India                   168\n",
       "Brazil                   62\n",
       "United Kingdom           43\n",
       "Mexico                   33\n",
       "Indonesia                28\n",
       "Spain                    22\n",
       "Thailand                 18\n",
       "South Korea              17\n",
       "Russia                   16\n",
       "Canada                   15\n",
       "Argentina                13\n",
       "Philippines              12\n",
       "Colombia                 11\n",
       "Australia                 9\n",
       "Saudi Arabia              9\n",
       "Ukraine                   8\n",
       "United Arab Emirates      7\n",
       "Germany                   6\n",
       "Pakistan                  6\n",
       "France                    5\n",
       "Japan                     5\n",
       "Turkey                    4\n",
       "Sweden                    4\n",
       "Vietnam                   3\n",
       "Jordan                    3\n",
       "Netherlands               3\n",
       "Singapore                 3\n",
       "Chile                     3\n",
       "Egypt                     2\n",
       "Ecuador                   2\n",
       "Iraq                      2\n",
       "Italy                     2\n",
       "China                     1\n",
       "Peru                      1\n",
       "Andorra                   1\n",
       "Bangladesh                1\n",
       "Finland                   1\n",
       "Morocco                   1\n",
       "Kuwait                    1\n",
       "Malaysia                  1\n",
       "Switzerland               1\n",
       "Latvia                    1\n",
       "Afghanistan               1\n",
       "Venezuela                 1\n",
       "Barbados                  1\n",
       "El Salvador               1\n",
       "Cuba                      1\n",
       "Samoa                     1\n",
       "Name: count, dtype: int64"
      ]
     },
     "execution_count": 52,
     "metadata": {},
     "output_type": "execute_result"
    }
   ],
   "source": [
    "countries=df[\"Country\"].value_counts() # first 10 is good enough for us\n",
    "countries\n"
   ]
  },
  {
   "cell_type": "code",
   "execution_count": 53,
   "id": "b4bfe93c",
   "metadata": {
    "papermill": {
     "duration": 0.280567,
     "end_time": "2023-08-15T22:49:21.999709",
     "exception": false,
     "start_time": "2023-08-15T22:49:21.719142",
     "status": "completed"
    },
    "tags": []
   },
   "outputs": [
    {
     "data": {
      "text/plain": [
       "Text(0.5, 1.0, 'Channel Count - Country')"
      ]
     },
     "execution_count": 53,
     "metadata": {},
     "output_type": "execute_result"
    },
    {
     "data": {
      "image/png": "[encoded data removed]",
      "text/plain": [
       "<Figure size 800x700 with 1 Axes>"
      ]
     },
     "metadata": {},
     "output_type": "display_data"
    }
   ],
   "source": [
    "countries=countries[:10]\n",
    "\n",
    "plt.bar(countries.index,countries)\n",
    "plt.xlabel(\"Country\")\n",
    "plt.ylabel(\"Number of Channel\")\n",
    "\n",
    "plt.xticks(rotation=45) # rotate labels\n",
    "plt.title(\"Channel Count - Country\")"
   ]
  },
  {
   "cell_type": "markdown",
   "id": "d63cb6cd",
   "metadata": {
    "papermill": {
     "duration": 0.015113,
     "end_time": "2023-08-15T22:49:22.031299",
     "exception": false,
     "start_time": "2023-08-15T22:49:22.016186",
     "status": "completed"
    },
    "tags": []
   },
   "source": [
    "lets see video upload - total view connection in scatter plot"
   ]
  },
  {
   "cell_type": "code",
   "execution_count": 54,
   "id": "20ee25b8",
   "metadata": {
    "papermill": {
     "duration": 0.277837,
     "end_time": "2023-08-15T22:49:22.325032",
     "exception": false,
     "start_time": "2023-08-15T22:49:22.047195",
     "status": "completed"
    },
    "tags": []
   },
   "outputs": [
    {
     "data": {
      "text/plain": [
       "Text(0, 0.5, 'Total views(Million)')"
      ]
     },
     "execution_count": 54,
     "metadata": {},
     "output_type": "execute_result"
    },
    {
     "data": {
      "image/png": "[encoded data removed]",
      "text/plain": [
       "<Figure size 800x700 with 1 Axes>"
      ]
     },
     "metadata": {},
     "output_type": "display_data"
    }
   ],
   "source": [
    "y1=df[\"video views\"]/1000000 # divide it with MİLLİON\n",
    "x1=df[\"uploads\"]\n",
    "\n",
    "plt.scatter(x1,y1,s=y1*0.001, c=0.001*y1)\n",
    " \n",
    "plt.ticklabel_format(style='plain')\n",
    "\n",
    "plt.title(\"Upload - Total view\")\n",
    "plt.xlabel(\"Uploads\")\n",
    "plt.ylabel(\"Total views(Million)\")\n",
    " "
   ]
  },
  {
   "cell_type": "markdown",
   "id": "0bbf61e1",
   "metadata": {
    "papermill": {
     "duration": 0.015293,
     "end_time": "2023-08-15T22:49:22.356180",
     "exception": false,
     "start_time": "2023-08-15T22:49:22.340887",
     "status": "completed"
    },
    "tags": []
   },
   "source": [
    "* lets see total view by every country "
   ]
  },
  {
   "cell_type": "code",
   "execution_count": 55,
   "id": "a00b0460",
   "metadata": {
    "papermill": {
     "duration": 0.033016,
     "end_time": "2023-08-15T22:49:22.404893",
     "exception": false,
     "start_time": "2023-08-15T22:49:22.371877",
     "status": "completed"
    },
    "tags": []
   },
   "outputs": [],
   "source": [
    "view_country=df.groupby([\"Country\"])[\"video views\"].sum() # group by country and sum all views of that country\n",
    "view_country.sort_values(ascending=False,inplace=True)"
   ]
  },
  {
   "cell_type": "code",
   "execution_count": 56,
   "id": "7d4e949f",
   "metadata": {
    "papermill": {
     "duration": 0.027128,
     "end_time": "2023-08-15T22:49:22.448183",
     "exception": false,
     "start_time": "2023-08-15T22:49:22.421055",
     "status": "completed"
    },
    "tags": []
   },
   "outputs": [
    {
     "data": {
      "text/plain": [
       "Country\n",
       "United States     3.690292e+12\n",
       "India             2.281048e+12\n",
       "Brazil            4.812090e+11\n",
       "United Kingdom    4.305665e+11\n",
       "Thailand          2.643180e+11\n",
       "Name: video views, dtype: float64"
      ]
     },
     "execution_count": 56,
     "metadata": {},
     "output_type": "execute_result"
    }
   ],
   "source": [
    "view_country.head(5) # it seems good"
   ]
  },
  {
   "cell_type": "code",
   "execution_count": 57,
   "id": "3a7c5698",
   "metadata": {
    "papermill": {
     "duration": 0.296833,
     "end_time": "2023-08-15T22:49:22.760905",
     "exception": false,
     "start_time": "2023-08-15T22:49:22.464072",
     "status": "completed"
    },
    "tags": []
   },
   "outputs": [
    {
     "data": {
      "text/plain": [
       "Text(0.5, 1.0, 'Country - Total View')"
      ]
     },
     "execution_count": 57,
     "metadata": {},
     "output_type": "execute_result"
    },
    {
     "data": {
      "image/png": "[encoded data removed]",
      "text/plain": [
       "<Figure size 800x700 with 1 Axes>"
      ]
     },
     "metadata": {},
     "output_type": "display_data"
    }
   ],
   "source": [
    "plt.bar(view_country.index[:10],view_country[:10])\n",
    "plt.ylabel(\"total view(Trillion)\")\n",
    "plt.xlabel(\"country\")\n",
    "plt.xticks(rotation=45)\n",
    "plt.title(\"Country - Total View\")"
   ]
  },
  {
   "cell_type": "code",
   "execution_count": null,
   "id": "685b710c",
   "metadata": {
    "papermill": {
     "duration": 0.015983,
     "end_time": "2023-08-15T22:49:22.792846",
     "exception": false,
     "start_time": "2023-08-15T22:49:22.776863",
     "status": "completed"
    },
    "tags": []
   },
   "outputs": [],
   "source": []
  },
  {
   "cell_type": "markdown",
   "id": "9c404dd5",
   "metadata": {
    "papermill": {
     "duration": 0.016716,
     "end_time": "2023-08-15T22:49:22.825636",
     "exception": false,
     "start_time": "2023-08-15T22:49:22.808920",
     "status": "completed"
    },
    "tags": []
   },
   "source": [
    "* lets see  count of channel number of each category - total view of that category connection"
   ]
  },
  {
   "cell_type": "code",
   "execution_count": 58,
   "id": "94ce3ca3",
   "metadata": {
    "papermill": {
     "duration": 0.029659,
     "end_time": "2023-08-15T22:49:22.871569",
     "exception": false,
     "start_time": "2023-08-15T22:49:22.841910",
     "status": "completed"
    },
    "tags": []
   },
   "outputs": [
    {
     "data": {
      "text/plain": [
       "channel_type\n",
       "Entertainment    3.371893e+12\n",
       "Music            3.252736e+12\n",
       "People           8.859191e+11\n",
       "Education        7.648059e+11\n",
       "Games            7.266072e+11\n",
       "Film             4.592427e+11\n",
       "Comedy           4.531406e+11\n",
       "News             3.113528e+11\n",
       "Howto            1.956506e+11\n",
       "Sports           1.811050e+11\n",
       "Tech             5.935554e+10\n",
       "Animals          4.413526e+10\n",
       "Autos            1.957755e+10\n",
       "Nonprofit        1.086291e+10\n",
       "Name: video views, dtype: float64"
      ]
     },
     "execution_count": 58,
     "metadata": {},
     "output_type": "execute_result"
    }
   ],
   "source": [
    "# first find total views of categories\n",
    "type_view=df.groupby([\"channel_type\"])[\"video views\"].sum() # group by channel type and sum views\n",
    "type_view.sort_values(ascending=False)"
   ]
  },
  {
   "cell_type": "code",
   "execution_count": 59,
   "id": "6bc77ae6",
   "metadata": {
    "papermill": {
     "duration": 0.029472,
     "end_time": "2023-08-15T22:49:22.917758",
     "exception": false,
     "start_time": "2023-08-15T22:49:22.888286",
     "status": "completed"
    },
    "tags": []
   },
   "outputs": [
    {
     "data": {
      "text/plain": [
       "channel_type\n",
       "Entertainment    303\n",
       "Music            215\n",
       "People           101\n",
       "Games             95\n",
       "Comedy            51\n",
       "Education         48\n",
       "Film              42\n",
       "Howto             36\n",
       "News              30\n",
       "Tech              17\n",
       "Sports            13\n",
       "Autos              3\n",
       "Animals            3\n",
       "Nonprofit          2\n",
       "Name: count, dtype: int64"
      ]
     },
     "execution_count": 59,
     "metadata": {},
     "output_type": "execute_result"
    }
   ],
   "source": [
    "# channel count for each category\n",
    "channel_type=df[\"channel_type\"].value_counts()\n",
    "channel_type"
   ]
  },
  {
   "cell_type": "markdown",
   "id": "e7640542",
   "metadata": {
    "papermill": {
     "duration": 0.016448,
     "end_time": "2023-08-15T22:49:22.951640",
     "exception": false,
     "start_time": "2023-08-15T22:49:22.935192",
     "status": "completed"
    },
    "tags": []
   },
   "source": [
    "you can see this two series index order is different we cant use them in same scatter\n",
    "index order must be same , therefore we can merge them  after that we can use them"
   ]
  },
  {
   "cell_type": "code",
   "execution_count": 64,
   "id": "f0bcc90b",
   "metadata": {
    "papermill": {
     "duration": 0.033196,
     "end_time": "2023-08-15T22:49:23.001198",
     "exception": false,
     "start_time": "2023-08-15T22:49:22.968002",
     "status": "completed"
    },
    "tags": []
   },
   "outputs": [],
   "source": [
    "# merging\n",
    "category_view_merged=pd.merge(channel_type, type_view, left_index=True, right_index=True)\n",
    "category_view_merged=category_view_merged.reset_index() # now we can use it"
   ]
  },
  {
   "cell_type": "code",
   "execution_count": 65,
   "id": "e6bf652d",
   "metadata": {
    "papermill": {
     "duration": 0.031065,
     "end_time": "2023-08-15T22:49:23.050152",
     "exception": false,
     "start_time": "2023-08-15T22:49:23.019087",
     "status": "completed"
    },
    "tags": []
   },
   "outputs": [
    {
     "data": {
      "text/html": [
       "<div>\n",
       "<style scoped>\n",
       "    .dataframe tbody tr th:only-of-type {\n",
       "        vertical-align: middle;\n",
       "    }\n",
       "\n",
       "    .dataframe tbody tr th {\n",
       "        vertical-align: top;\n",
       "    }\n",
       "\n",
       "    .dataframe thead th {\n",
       "        text-align: right;\n",
       "    }\n",
       "</style>\n",
       "<table border=\"1\" class=\"dataframe\">\n",
       "  <thead>\n",
       "    <tr style=\"text-align: right;\">\n",
       "      <th></th>\n",
       "      <th>channel_type</th>\n",
       "      <th>count</th>\n",
       "      <th>video views</th>\n",
       "    </tr>\n",
       "  </thead>\n",
       "  <tbody>\n",
       "    <tr>\n",
       "      <th>0</th>\n",
       "      <td>Entertainment</td>\n",
       "      <td>303</td>\n",
       "      <td>3.371893e+12</td>\n",
       "    </tr>\n",
       "    <tr>\n",
       "      <th>1</th>\n",
       "      <td>Music</td>\n",
       "      <td>215</td>\n",
       "      <td>3.252736e+12</td>\n",
       "    </tr>\n",
       "    <tr>\n",
       "      <th>2</th>\n",
       "      <td>People</td>\n",
       "      <td>101</td>\n",
       "      <td>8.859191e+11</td>\n",
       "    </tr>\n",
       "    <tr>\n",
       "      <th>3</th>\n",
       "      <td>Games</td>\n",
       "      <td>95</td>\n",
       "      <td>7.266072e+11</td>\n",
       "    </tr>\n",
       "    <tr>\n",
       "      <th>4</th>\n",
       "      <td>Comedy</td>\n",
       "      <td>51</td>\n",
       "      <td>4.531406e+11</td>\n",
       "    </tr>\n",
       "    <tr>\n",
       "      <th>5</th>\n",
       "      <td>Education</td>\n",
       "      <td>48</td>\n",
       "      <td>7.648059e+11</td>\n",
       "    </tr>\n",
       "    <tr>\n",
       "      <th>6</th>\n",
       "      <td>Film</td>\n",
       "      <td>42</td>\n",
       "      <td>4.592427e+11</td>\n",
       "    </tr>\n",
       "    <tr>\n",
       "      <th>7</th>\n",
       "      <td>Howto</td>\n",
       "      <td>36</td>\n",
       "      <td>1.956506e+11</td>\n",
       "    </tr>\n",
       "    <tr>\n",
       "      <th>8</th>\n",
       "      <td>News</td>\n",
       "      <td>30</td>\n",
       "      <td>3.113528e+11</td>\n",
       "    </tr>\n",
       "    <tr>\n",
       "      <th>9</th>\n",
       "      <td>Tech</td>\n",
       "      <td>17</td>\n",
       "      <td>5.935554e+10</td>\n",
       "    </tr>\n",
       "    <tr>\n",
       "      <th>10</th>\n",
       "      <td>Sports</td>\n",
       "      <td>13</td>\n",
       "      <td>1.811050e+11</td>\n",
       "    </tr>\n",
       "    <tr>\n",
       "      <th>11</th>\n",
       "      <td>Autos</td>\n",
       "      <td>3</td>\n",
       "      <td>1.957755e+10</td>\n",
       "    </tr>\n",
       "    <tr>\n",
       "      <th>12</th>\n",
       "      <td>Animals</td>\n",
       "      <td>3</td>\n",
       "      <td>4.413526e+10</td>\n",
       "    </tr>\n",
       "    <tr>\n",
       "      <th>13</th>\n",
       "      <td>Nonprofit</td>\n",
       "      <td>2</td>\n",
       "      <td>1.086291e+10</td>\n",
       "    </tr>\n",
       "  </tbody>\n",
       "</table>\n",
       "</div>"
      ],
      "text/plain": [
       "     channel_type  count   video views\n",
       "0   Entertainment    303  3.371893e+12\n",
       "1           Music    215  3.252736e+12\n",
       "2          People    101  8.859191e+11\n",
       "3           Games     95  7.266072e+11\n",
       "4          Comedy     51  4.531406e+11\n",
       "5       Education     48  7.648059e+11\n",
       "6            Film     42  4.592427e+11\n",
       "7           Howto     36  1.956506e+11\n",
       "8            News     30  3.113528e+11\n",
       "9            Tech     17  5.935554e+10\n",
       "10         Sports     13  1.811050e+11\n",
       "11          Autos      3  1.957755e+10\n",
       "12        Animals      3  4.413526e+10\n",
       "13      Nonprofit      2  1.086291e+10"
      ]
     },
     "execution_count": 65,
     "metadata": {},
     "output_type": "execute_result"
    }
   ],
   "source": [
    "category_view_merged"
   ]
  },
  {
   "cell_type": "code",
   "execution_count": null,
   "id": "ed8d99a6-a415-4143-ba13-2af843dfd197",
   "metadata": {},
   "outputs": [],
   "source": []
  }
 ],
 "metadata": {
  "kernelspec": {
   "display_name": "Python 3 (ipykernel)",
   "language": "python",
   "name": "python3"
  },
  "language_info": {
   "codemirror_mode": {
    "name": "ipython",
    "version": 3
   },
   "file_extension": ".py",
   "mimetype": "text/x-python",
   "name": "python",
   "nbconvert_exporter": "python",
   "pygments_lexer": "ipython3",
   "version": "3.10.0"
  },
  "papermill": {
   "default_parameters": {},
   "duration": 13.852404,
   "end_time": "2023-08-15T22:49:24.337927",
   "environment_variables": {},
   "exception": null,
   "input_path": "__notebook__.ipynb",
   "output_path": "__notebook__.ipynb",
   "parameters": {},
   "start_time": "2023-08-15T22:49:10.485523",
   "version": "2.4.0"
  }
 },
 "nbformat": 4,
 "nbformat_minor": 5
}
